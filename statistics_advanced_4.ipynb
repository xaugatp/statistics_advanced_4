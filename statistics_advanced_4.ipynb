{
 "cells": [
  {
   "cell_type": "markdown",
   "metadata": {},
   "source": [
    "What is  the diffrence between a t-test and z-test? Provide an example senerio where you would use each type of test.\n"
   ]
  },
  {
   "cell_type": "markdown",
   "metadata": {},
   "source": [
    "T-tests and Z-tests are statistical methods used to analyze data and make inferences about population parameters based on sample data. The key difference between the two lies in the circumstances under which they are applicable.\n",
    "\n",
    "1. **T-test:**\n",
    "   - **Applicability:** The t-test is generally used when dealing with small sample sizes (typically less than 30) and when the population standard deviation is unknown.\n",
    "   - **Formula:** The formula for a t-test involves the sample mean, the population mean (or a hypothesized mean), the sample standard deviation, and the sample size.\n",
    "   - **Example Scenario:** Suppose you want to compare the mean scores of two groups of students (Group A and Group B) on a test. You collect a sample of 20 students from each group and calculate the mean and standard deviation of their scores. To determine if there is a significant difference between the two groups, you would use a t-test.\n",
    "\n",
    "2. **Z-test:**\n",
    "   - **Applicability:** The z-test is typically used when dealing with large sample sizes (usually greater than 30) or when the population standard deviation is known.\n",
    "   - **Formula:** The z-test formula involves the sample mean, the population mean (or a hypothesized mean), the population standard deviation, and the sample size.\n",
    "   - **Example Scenario:** Imagine you have access to the scores of all students in a particular school district (population). You want to assess if the mean score of a sample of 100 students from this district is significantly different from the known population mean. In this case, you might use a z-test.\n",
    "\n",
    "**Scenario Summaries:**\n",
    "\n",
    "- **T-test Example:**\n",
    "  - **Scenario:** You want to compare the average commute times of two groups of employees in a company, where each group consists of 25 employees.\n",
    "  - **Test:** T-test\n",
    "  - **Reasoning:** Since the sample sizes are relatively small (25), and you likely don't know the population standard deviation of commute times, a t-test would be appropriate.\n",
    "\n",
    "- **Z-test Example:**\n",
    "  - **Scenario:** You are interested in understanding if the average height of a sample of 200 adults from a town is significantly different from the known population average height of adults in that town.\n",
    "  - **Test:** Z-test\n",
    "  - **Reasoning:** With a larger sample size (200) and knowledge of the population standard deviation, a z-test is suitable for assessing the significance of the difference in average height between the sample and the population."
   ]
  },
  {
   "cell_type": "markdown",
   "metadata": {},
   "source": [
    "Q2: Differentiate between one-tailed and two-tailed tests."
   ]
  },
  {
   "cell_type": "markdown",
   "metadata": {},
   "source": [
    "The distinction between one-tailed and two-tailed tests pertains to the directionality of the hypothesis being tested and the region(s) of the probability distribution considered for decision-making.\n",
    "\n",
    "One-Tailed Test:\n",
    "\n",
    "Directionality: In a one-tailed test, the hypothesis specifies the direction of the effect or difference (i.e., it predicts the outcome to occur in one direction only).\n",
    "\n",
    "Critical Region: The critical region for the test is located entirely on one side of the distribution curve.\n",
    "\n",
    "Example: If you are testing whether a new drug has a positive effect and expect it to increase performance, a one-tailed test would be appropriate. The critical region would be on the side of the distribution where higher values are found.\n",
    "\n",
    "Two-Tailed Test:\n",
    "\n",
    "Directionality: In a two-tailed test, the hypothesis is agnostic about the direction of the effect or difference (i.e., it predicts that the outcome could occur in either direction).\n",
    "\n",
    "Critical Region: The critical region is divided between both sides of the distribution curve, often symmetrically.\n",
    "\n",
    "Example: If you are testing whether a coin is fair, a two-tailed test would be appropriate. The critical region would include both extremes of the distribution (heads or tails)."
   ]
  },
  {
   "cell_type": "markdown",
   "metadata": {},
   "source": [
    "Q3: Explain the concept of Type 1 and Type 2 errors in hypothesis testing. Provide an example scenario for\n",
    "each type of error."
   ]
  },
  {
   "cell_type": "markdown",
   "metadata": {},
   "source": [
    "**Type I and Type II errors** are two types of errors that can occur in hypothesis testing:\n",
    "\n",
    "1. **Type I Error (False Positive):**\n",
    "   - **Definition:** A Type I error occurs when you incorrectly reject a true null hypothesis. In other words, you conclude that there is a significant effect or difference when, in reality, there is none.\n",
    "   - **Probability:** Denoted by the symbol \\(\\alpha\\), the probability of committing a Type I error is the significance level or the level of significance set by the researcher.\n",
    "   - **Example Scenario:** Suppose you are conducting a medical test to determine if a person has a rare disease. You set the significance level at 0.05. If you incorrectly reject the null hypothesis (person does not have the disease) and conclude that the person has the disease when they do not, it is a Type I error.\n",
    "\n",
    "2. **Type II Error (False Negative):**\n",
    "   - **Definition:** A Type II error occurs when you incorrectly fail to reject a false null hypothesis. In other words, you conclude that there is no significant effect or difference when, in reality, there is one.\n",
    "   - **Probability:** Denoted by the symbol \\(\\beta\\), the probability of committing a Type II error depends on the power of the test, which is influenced by factors like sample size, effect size, and significance level.\n",
    "   - **Example Scenario:** Continuing with the medical test example, if you incorrectly fail to reject the null hypothesis (person has the disease) and conclude that the person does not have the disease when they actually do, it is a Type II error.\n",
    "\n",
    "**Summary:**\n",
    "\n",
    "- **Type I Error (False Positive):**\n",
    "  - **Symbol:** \\(\\alpha\\)\n",
    "  - **Occurs when:** Rejecting a true null hypothesis.\n",
    "  - **Consequence:** Concluding that there is an effect or difference when there isn't.\n",
    "  - **Example:** Concluding that a new drug is effective when it actually has no therapeutic effect.\n",
    "\n",
    "- **Type II Error (False Negative):**\n",
    "  - **Symbol:** \\(\\beta\\)\n",
    "  - **Occurs when:** Failing to reject a false null hypothesis.\n",
    "  - **Consequence:** Concluding that there is no effect or difference when there actually is.\n",
    "  - **Example:** Concluding that a medical test shows no disease when the person is actually sick.\n",
    "\n"
   ]
  },
  {
   "cell_type": "markdown",
   "metadata": {},
   "source": [
    "Q4: Explain Bayes's theorem with an example."
   ]
  },
  {
   "cell_type": "markdown",
   "metadata": {},
   "source": [
    "In statistics and probability theory, the Bayes’ theorem (also known as the Bayes’ rule) is a mathematical formula used to determine the conditional probability of events. Essentially, the Bayes’ theorem describes the probability of an event based on prior knowledge of the conditions that might be relevant to the event.\n",
    "\n",
    "https://cdn.corporatefinanceinstitute.com/assets/bayes-theorem1.png\n",
    "\n",
    "\n",
    "Example:\n",
    "dangerous fires are rare (1%)\n",
    "but smoke is fairly common (10%) due to barbecues,\n",
    "and 90% of dangerous fires make smoke\n",
    "We can then discover the probability of dangerous Fire when there is Smoke:\n",
    "\n",
    "P(Fire|Smoke) =\t P(Fire) P(Smoke|Fire)/P(Smoke)\n",
    " \n",
    "=\t 1% x 90%/10%\n",
    " \n",
    "=\t9%\n",
    "So it is still worth checking out any smoke to be sure.\n"
   ]
  },
  {
   "cell_type": "markdown",
   "metadata": {},
   "source": [
    "Q5: What is a confidence interval? How to calculate the confidence interval, explain with an example."
   ]
  },
  {
   "cell_type": "markdown",
   "metadata": {},
   "source": [
    "A confidence interval(CI) is a statistical tool used to estimate the range within which a population parameter, such as the mean or proportion is likely to lie. It provides a level of confidence that the true parameter falls within the specified interval. The most common confidence levels are 90%, 95% and 99%. \n",
    "\n",
    "The general formula for calculating a confidence interval is:\n",
    " CI=Point Estimate±(Margin of Error)\n",
    "\n",
    "Where:\n",
    "\n",
    "Point Estimate: This is the sample statistic that serves as the best estimate of the population parameter. For example, the sample mean or proportion.\n",
    "Margin of Error: This represents the range around the point estimate that is likely to contain the true parameter. It is influenced by the desired confidence level and the variability of the data.\n",
    "Calculation of Margin of Error:\n",
    "Margin of Error\n",
    "=\n",
    "Critical Value × Standard Error\n",
    "Margin of Error=Critical Value×Standard Error\n",
    "\n",
    "The critical value is determined based on the desired confidence level and the distribution (e.g., z-value for a normal distribution or t-value for a t-distribution). The standard error depends on the variability of the data.\n",
    "\n",
    "Example: Calculating a 95% Confidence Interval for the Mean:\n",
    "\n",
    "Suppose you have a sample of test scores from a group of students. You want to estimate the average test score for the entire student population. Let's assume the sample mean is 75, the sample standard deviation is 5, and the sample size is 50.\n",
    "\n",
    "Calculate Standard Error:\n",
    "standard error = standard deviation / (sample size)^1/2\n",
    "standard error = 5/(50)^1/2 nearly equals to 0.707\n",
    "\n",
    "Determine Critical Value:\n",
    "\n",
    "For a 95% confidence interval with a normal distribution, the critical value is approximately 1.96 (this value is obtained from a standard normal distribution table).\n",
    "\n",
    "Calculate margin of error:\n",
    "margin of error = 1.96 * 0.707 ~ 1.386\n",
    "\n",
    "calculate confidence interval \n",
    "CI=Sample Mean±Margin of Error\n",
    "CI=75±1.386\n",
    "\n",
    "Therefore, the 95% confidence interval for the true average test score in the population is approximately \n",
    "(\n",
    "73.614\n",
    ",\n",
    "76.386\n",
    ")\n",
    "(73.614,76.386). This means we are 95% confident that the true average test score lies within this interval based on the sample data.\n",
    "\n",
    "\n",
    "\n",
    "\n",
    "\n"
   ]
  },
  {
   "cell_type": "markdown",
   "metadata": {},
   "source": [
    "Q6. Use Bayes' Theorem to calculate the probability of an event occurring given prior knowledge of the\n",
    "event's probability and new evidence. Provide a sample problem and solution."
   ]
  },
  {
   "cell_type": "markdown",
   "metadata": {},
   "source": [
    "Monty Hall Problem:\n",
    "In a game show, a contestant is presented with three doors. Behind two doors are goats, and behind one door is a car. The contestant selects one door, and then the host, who knows what is behind each door, opens another door revealing a goat. The contestant is then given the option to stick with their original choice or switch to the other unopened door. What is the probability of winning the car if the contestant switches?\n",
    "\n",
    "Bayes' Theorem for the Monty Hall Problem:\n",
    "Let:\n",
    "\n",
    "A be the event that the car is behind the contestant's initial choice.\n",
    "B be the event that the host opens a door revealing a goat.\n",
    "Bayes' Theorem is given by:P(A/B) = P(B/A).P(A)/P(B)\n",
    "\n",
    "\n",
    "Probabilities for the monty hall problem:\n",
    "1) P(A) : The probability that the car is behind the initial choice(before the host opens the door ) is 1/3 , as there are three doors. \n",
    "2) P(B/A) : The probability that the host opens a door revealing a goat, given that the car is behind the initial choice is 1/2 as the host has two doors with goats to choose from. \n",
    "3) P(B) : The probability that the host opens a door revealing a goat , considering all possible senarios is 1/2. \n",
    "\n",
    "Now, plug these values into Bayes' Theorm:\n",
    "P(A/B) = (0.5*0.333)/0.5 = 1/3\n",
    "\n",
    "So the probability of winning the car if the contestant switches doors after the host reveals a goat is 1/3 , which might be counterintuitive for some. The act of switching increases the probability of winning compared to sticking with the initial choice. This result demonstrates the power of Bayes Theom in updating probabilities based on new evidence.\n"
   ]
  },
  {
   "cell_type": "markdown",
   "metadata": {},
   "source": [
    "Q7. Calculate the 95% confidence interval for a sample of data with a mean of 50 and a standard deviation\n",
    "of 5. Interpret the results."
   ]
  },
  {
   "cell_type": "markdown",
   "metadata": {},
   "source": [
    "Here, \n",
    "Confidence Interval = 95%\n",
    "sample mean = 50\n",
    "sample standard deviation = 5\n",
    "\n",
    "With 95% confidence interval our critical value will be 1.96\n",
    "\n",
    "we know, \n",
    "        confidence interval = point estimate ± margin of error \n",
    "\n",
    "And Margin of error  = critical value * standard deviation / (sample size)^1/2\n",
    "\n",
    "But we don't have the sample size in this problem.\n",
    "\n",
    "Interpretation:\n",
    "If we had sample size(n) we could say that \" We are 95% confident that true population mean falls within the interval [lower limit, upper limit]. The interval provides a range of values within which we belive the population mean is likely to lie, based on the sample data. The larger the sample size the narrower the confidence interval and more precise our estimate of the population mean. \n"
   ]
  },
  {
   "cell_type": "markdown",
   "metadata": {},
   "source": [
    "Q8. What is the margin of error in a confidence interval? How does sample size affect the margin of error?\n",
    "Provide an example of a scenario where a larger sample size would result in a smaller margin of error."
   ]
  },
  {
   "cell_type": "markdown",
   "metadata": {},
   "source": [
    "Margin of error is a measure of the uncertinty or precision associated with the estimation of a population parameter in a confidence interval. It represents the range above and below the point estimate within which the true parameter is likely to lie. The formula for the margin of error is typically: \n",
    "\n",
    "Margin of Error = Critical Value * Standard Error\n",
    "\n",
    "The key factors influencing the margin of error are tthe critical value( related to the desired confidence level) and the standard error, which depends on the sample standard deviation and sample size. \n",
    "\n",
    "How sample size affects the margin of error: \n",
    "1) Inverse Relationship : Generally, as the sample size increases, the margin of error decreases. \n",
    "2) Increases Precision: A larger sample size leads to a more accurate estimate of the population parameter, resulting in a narrower confidence interval. \n",
    "3) Decreased variability: Larger sample size reduce the impact of variability in the data, leading to a more reliable estimate. \n",
    "\n",
    "Example Scenario: \n",
    "Let's consider an example involving the estimation of the average height of adult males in a city.\n",
    "-> Smaller sample size scenario: \n",
    "sample size(n) : 50 \n",
    "standard deviation(s): 3 inches \n",
    "critical value ( for 95% confidence interval ) = approx 1.96\n",
    "using formula for margin of error \n",
    "Margin of error  = 1.96 * 3/(50)^ 1/2\n",
    " \n",
    " larger sample size scenario:\n",
    " sample size (n) = 50 \n",
    " standard deviation(s) = 3 inches \n",
    " critical value(for 95% confidence interval ): Still approx 1.96 \n",
    " using forula for margin of error: \n",
    " margin of error  = 1.96 * 3/(500)^1/2\n",
    "\n",
    " Comparing the two scenarios, you would observe that the margin of error is smaller in the larger sample size scenario. This mean that, with larger sample size, the confidence interval for the average height of adult males is narrower, providing a more precise estimate. Researchers often aim for larger sample size to achive greater precision in their estimatins and reduce the margin of errors associated with their confidence interval."
   ]
  },
  {
   "cell_type": "markdown",
   "metadata": {},
   "source": [
    "Q9. Calculate the z-score for a data point with a value of 75, a population mean of 70, and a population\n",
    "standard deviation of 5. Interpret the results."
   ]
  },
  {
   "cell_type": "markdown",
   "metadata": {},
   "source": [
    "Given, \n",
    "data point(x) = 75\n",
    "population mean (μ) = 70\n",
    "population standard deviation(σ) = 5\n",
    " \n",
    " z = 75-70/5 = 1\n",
    "\n",
    "So the z-score for the datapoint with a value of 75 is 1. This means that the data point is 1 standard deviation above the mean. The positive sign indicates that the data point is above the mean of the population. \n",
    "\n",
    "Interpretation: \n",
    "In pratical terms, a z-score of 1 suggests that the data point is relatively close to the mean., within one standard deviation. The information is useful for understanding the position of a particular data point in the context of the distribution of the population data. "
   ]
  },
  {
   "cell_type": "markdown",
   "metadata": {},
   "source": [
    "Q10. In a study of the effectiveness of a new weight loss drug, a sample of 50 participants lost an average\n",
    "of 6 pounds with a standard deviation of 2.5 pounds. Conduct a hypothesis test to determine if the drug is\n",
    "significantly effective at a 95% confidence level using a t-test."
   ]
  },
  {
   "cell_type": "code",
   "execution_count": 6,
   "metadata": {},
   "outputs": [
    {
     "name": "stdout",
     "output_type": "stream",
     "text": [
      "Reject the null hypothesis. The drug is significantly effective.\n"
     ]
    }
   ],
   "source": [
    "import scipy.stats as stats\n",
    "\n",
    "# Given data\n",
    "sample_mean = 6  # average weight loss\n",
    "sample_std = 2.5  # standard deviation\n",
    "sample_size = 50  # number of participants\n",
    "confidence_level = 0.95  # 95% confidence level\n",
    "\n",
    "# Null hypothesis: The drug is not significantly effective (mean weight loss is zero)\n",
    "# Alternative hypothesis: The drug is significantly effective (mean weight loss is not zero)\n",
    "\n",
    "# Calculate the t-statistic\n",
    "t_statistic = (sample_mean - 0) / (sample_std / (sample_size ** 0.5))\n",
    "\n",
    "# Calculate the degrees of freedom\n",
    "degrees_of_freedom = sample_size - 1\n",
    "\n",
    "# Calculate the critical t-value for a two-tailed test\n",
    "alpha = 1 - confidence_level\n",
    "critical_t_value = stats.t.ppf(1 - alpha / 2, degrees_of_freedom)\n",
    "\n",
    "# Compare the t-statistic with the critical t-value\n",
    "if abs(t_statistic) > critical_t_value:\n",
    "    print(\"Reject the null hypothesis. The drug is significantly effective.\")\n",
    "else:\n",
    "    print(\"Fail to reject the null hypothesis. There is not enough evidence to claim the drug is significantly effective.\")\n"
   ]
  },
  {
   "cell_type": "code",
   "execution_count": 10,
   "metadata": {},
   "outputs": [],
   "source": [
    "#Q11. In a survey of 500 people, 65% reported being satisfied with their current \n",
    "# job. Calculate the 95% confidence interval for the true proportion of people \n",
    "# who are satisfied with their job."
   ]
  },
  {
   "cell_type": "code",
   "execution_count": 11,
   "metadata": {},
   "outputs": [
    {
     "name": "stdout",
     "output_type": "stream",
     "text": [
      "95% Confidence Interval: (0.6082, 0.6918)\n"
     ]
    }
   ],
   "source": [
    "import scipy.stats as stats\n",
    "import math\n",
    "\n",
    "# Given data\n",
    "sample_proportion = 0.65\n",
    "sample_size = 500\n",
    "confidence_level = 0.95\n",
    "\n",
    "# Step 2: Find the critical value\n",
    "z_critical = stats.norm.ppf(1 - (1 - confidence_level) / 2)\n",
    "\n",
    "# Step 3: Calculate the margin of error (ME)\n",
    "margin_of_error = z_critical * math.sqrt((sample_proportion * (1 - sample_proportion)) / sample_size)\n",
    "\n",
    "# Step 4: Calculate the confidence interval\n",
    "confidence_interval_lower = sample_proportion - margin_of_error\n",
    "confidence_interval_upper = sample_proportion + margin_of_error\n",
    "\n",
    "# Display the result\n",
    "print(\"95% Confidence Interval: ({:.4f}, {:.4f})\".format(confidence_interval_lower, confidence_interval_upper))\n"
   ]
  },
  {
   "cell_type": "code",
   "execution_count": 12,
   "metadata": {},
   "outputs": [
    {
     "data": {
      "text/plain": [
       "' Q12. A researcher is testing the effectiveness of two different teaching methods on student performance.\\nSample A has a mean score of 85 with a standard deviation of 6, while sample B has a mean score of 82\\nwith a standard deviation of 5. Conduct a hypothesis test to determine if the two teaching methods have a\\nsignificant difference in student performance using a t-test with a significance level of 0.01.'"
      ]
     },
     "execution_count": 12,
     "metadata": {},
     "output_type": "execute_result"
    }
   ],
   "source": [
    "''' Q12. A researcher is testing the effectiveness of two different teaching methods on student performance.\n",
    "Sample A has a mean score of 85 with a standard deviation of 6, while sample B has a mean score of 82\n",
    "with a standard deviation of 5. Conduct a hypothesis test to determine if the two teaching methods have a\n",
    "significant difference in student performance using a t-test with a significance level of 0.01.'''"
   ]
  },
  {
   "cell_type": "code",
   "execution_count": 14,
   "metadata": {},
   "outputs": [
    {
     "name": "stdout",
     "output_type": "stream",
     "text": [
      "Reject the null hypothesis. There is a significant difference in student performance between the two teaching methods.\n"
     ]
    }
   ],
   "source": [
    "import scipy.stats as stats\n",
    "\n",
    "# Given data for sample A\n",
    "mean_A = 85\n",
    "std_dev_A = 6\n",
    "sample_size_A = 1000 # You need to provide the sample size for sample A\n",
    "\n",
    "# Given data for sample B\n",
    "mean_B = 82\n",
    "std_dev_B = 5\n",
    "sample_size_B = 1000  # You need to provide the sample size for sample B\n",
    "\n",
    "# Significance level\n",
    "alpha = 0.01\n",
    "\n",
    "# Conduct a two-sample t-test\n",
    "t_statistic, p_value = stats.ttest_ind_from_stats(mean_A, std_dev_A, sample_size_A, mean_B, std_dev_B, sample_size_B)\n",
    "\n",
    "# Compare the p-value with the significance level\n",
    "if p_value < alpha:\n",
    "    print(\"Reject the null hypothesis. There is a significant difference in student performance between the two teaching methods.\")\n",
    "else:\n",
    "    print(\"Fail to reject the null hypothesis. There is not enough evidence to claim a significant difference in student performance.\")\n"
   ]
  },
  {
   "cell_type": "code",
   "execution_count": 15,
   "metadata": {},
   "outputs": [
    {
     "data": {
      "text/plain": [
       "' Q13. A population has a mean of 60 and a standard deviation of 8. A sample of 50 observations has a mean\\nof 65. Calculate the 90% confidence interval for the true population mean.'"
      ]
     },
     "execution_count": 15,
     "metadata": {},
     "output_type": "execute_result"
    }
   ],
   "source": [
    "''' Q13. A population has a mean of 60 and a standard deviation of 8. A sample of 50 observations has a mean\n",
    "of 65. Calculate the 90% confidence interval for the true population mean.'''"
   ]
  },
  {
   "cell_type": "code",
   "execution_count": 16,
   "metadata": {},
   "outputs": [
    {
     "name": "stdout",
     "output_type": "stream",
     "text": [
      "90% Confidence Interval: (63.1391, 66.8609)\n"
     ]
    }
   ],
   "source": [
    "import scipy.stats as stats\n",
    "import math\n",
    "\n",
    "# Given data\n",
    "sample_mean = 65\n",
    "sample_std = 8\n",
    "sample_size = 50\n",
    "confidence_level = 0.90\n",
    "\n",
    "# Find the critical value (z) for a two-tailed test\n",
    "z_critical = stats.norm.ppf(1 - (1 - confidence_level) / 2)\n",
    "\n",
    "# Calculate the margin of error (ME)\n",
    "margin_of_error = z_critical * (sample_std / math.sqrt(sample_size))\n",
    "\n",
    "# Calculate the confidence interval\n",
    "confidence_interval_lower = sample_mean - margin_of_error\n",
    "confidence_interval_upper = sample_mean + margin_of_error\n",
    "\n",
    "# Display the result\n",
    "print(\"90% Confidence Interval: ({:.4f}, {:.4f})\".format(confidence_interval_lower, confidence_interval_upper))\n"
   ]
  },
  {
   "cell_type": "code",
   "execution_count": 17,
   "metadata": {},
   "outputs": [
    {
     "data": {
      "text/plain": [
       "' Q14. In a study of the effects of caffeine on reaction time, a sample of 30 participants had an average\\nreaction time of 0.25 seconds with a standard deviation of 0.05 seconds. Conduct a hypothesis test to\\ndetermine if the caffeine has a significant effect on reaction time at a 90% confidence level using a t-test.'"
      ]
     },
     "execution_count": 17,
     "metadata": {},
     "output_type": "execute_result"
    }
   ],
   "source": [
    "''' Q14. In a study of the effects of caffeine on reaction time, a sample of 30 participants had an average\n",
    "reaction time of 0.25 seconds with a standard deviation of 0.05 seconds. Conduct a hypothesis test to\n",
    "determine if the caffeine has a significant effect on reaction time at a 90% confidence level using a t-test.'''"
   ]
  },
  {
   "cell_type": "code",
   "execution_count": 18,
   "metadata": {},
   "outputs": [
    {
     "name": "stdout",
     "output_type": "stream",
     "text": [
      "Fail to reject the null hypothesis. There is not enough evidence to claim a significant effect of caffeine on reaction time.\n"
     ]
    }
   ],
   "source": [
    "import scipy.stats as stats\n",
    "\n",
    "# Given data\n",
    "sample_mean = 0.25\n",
    "sample_std = 0.05\n",
    "sample_size = 30\n",
    "confidence_level = 0.90\n",
    "\n",
    "# Null hypothesis: The caffeine has no significant effect on reaction time (mean reaction time is 0.25 seconds)\n",
    "# Alternative hypothesis: The caffeine has a significant effect on reaction time (mean reaction time is not 0.25 seconds)\n",
    "\n",
    "# Find the critical value (t_critical) for a two-tailed test\n",
    "t_critical = stats.t.ppf(1 - (1 - confidence_level) / 2, sample_size - 1)\n",
    "\n",
    "# Calculate the standard error of the mean (SEM)\n",
    "standard_error = sample_std / (sample_size ** 0.5)\n",
    "\n",
    "# Calculate the t-statistic\n",
    "t_statistic = (sample_mean - 0.25) / standard_error\n",
    "\n",
    "# Compare the t-statistic with the critical value\n",
    "if abs(t_statistic) > t_critical:\n",
    "    print(\"Reject the null hypothesis. Caffeine has a significant effect on reaction time.\")\n",
    "else:\n",
    "    print(\"Fail to reject the null hypothesis. There is not enough evidence to claim a significant effect of caffeine on reaction time.\")\n"
   ]
  },
  {
   "cell_type": "code",
   "execution_count": null,
   "metadata": {},
   "outputs": [],
   "source": []
  }
 ],
 "metadata": {
  "kernelspec": {
   "display_name": "Python 3",
   "language": "python",
   "name": "python3"
  },
  "language_info": {
   "codemirror_mode": {
    "name": "ipython",
    "version": 3
   },
   "file_extension": ".py",
   "mimetype": "text/x-python",
   "name": "python",
   "nbconvert_exporter": "python",
   "pygments_lexer": "ipython3",
   "version": "3.11.7"
  }
 },
 "nbformat": 4,
 "nbformat_minor": 2
}
